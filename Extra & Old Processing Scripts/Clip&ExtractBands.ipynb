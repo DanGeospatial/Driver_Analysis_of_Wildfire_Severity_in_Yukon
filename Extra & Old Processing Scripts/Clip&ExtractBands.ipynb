{
 "cells": [
  {
   "cell_type": "markdown",
   "id": "d3845a0b",
   "metadata": {},
   "source": [
    "Import & Clip"
   ]
  },
  {
   "cell_type": "code",
   "execution_count": 1,
   "id": "e02a6b64",
   "metadata": {
    "scrolled": false
   },
   "outputs": [],
   "source": [
    "# Set Imports\n",
    "import arcpy\n",
    "\n",
    "# Set input workspace\n",
    "arcpy.env.workspace = r\"I:/Wildfire_Climate_Export_v1/Wildfire_Climate_3Y/\"\n",
    "\n",
    "# Parameters\n",
    "rasters = arcpy.ListRasters()\n"
   ]
  },
  {
   "cell_type": "code",
   "execution_count": null,
   "id": "61411759",
   "metadata": {},
   "outputs": [],
   "source": [
    "#Clip Rasters\n",
    "#This function is not used!!!!\n",
    "for raster in rasters:\n",
    "    output_getname = str(raster).replace('.tif', '')\n",
    "    output_setfilename = r\"I:/clip/\" + output_getname + \".tif\"\n",
    "    arcpy.management.Clip(raster, \"-2350000.000000 5755100.000000 3020040.000000 8200000.000000\", output_setfilename, ClipArea, \"#\", \"ClippingGeometry\", \"MAINTAIN_EXTENT\")"
   ]
  },
  {
   "cell_type": "markdown",
   "id": "12c5f87e",
   "metadata": {},
   "source": [
    "Extract Bands"
   ]
  },
  {
   "cell_type": "code",
   "execution_count": 3,
   "id": "95c28516",
   "metadata": {},
   "outputs": [],
   "source": [
    "import arcpy\n",
    "#Set New Workspace\n",
    "arcpy.env.workspace = r\"I:/Wildfire_Climate_Export_v1/Wildfire_Climate_3Y/\"\n",
    "folder_ras = r\"I:/Wildfire_Climate_Export_v1/Wildfire_Climate_3Y/flattened/\"\n",
    "\n",
    "for raster in rasters:\n",
    "    rasterfile = raster\n",
    "    desc = arcpy.Describe(rasterfile)\n",
    "    \n",
    "    for band in range (1, desc.bandCount+1):\n",
    "        \n",
    "        output_getname = str(rasterfile).replace('.tif', '')\n",
    "        outputRaster = folder_ras + output_getname + \"_\" + str(band) + \".tif\"\n",
    "        \n",
    "        temp = arcpy.management.MakeRasterLayer(rasterfile, \"templyr\", \"#\", \"#\", band_index=str(band))\n",
    "        arcpy.CopyRaster_management(temp, outputRaster)"
   ]
  },
  {
   "cell_type": "markdown",
   "id": "9e67404a",
   "metadata": {},
   "source": []
  },
  {
   "cell_type": "code",
   "execution_count": 3,
   "id": "547597ef",
   "metadata": {},
   "outputs": [
    {
     "ename": "ExecuteError",
     "evalue": "Failed to execute. Parameters are not valid.\nERROR 000732: Input Raster: Dataset templyr does not exist or is not supported\nFailed to execute (Resample).\n",
     "output_type": "error",
     "traceback": [
      "\u001b[1;31m---------------------------------------------------------------------------\u001b[0m",
      "\u001b[1;31mExecuteError\u001b[0m                              Traceback (most recent call last)",
      "\u001b[1;32m~\\AppData\\Local\\Temp\\ipykernel_8772\\3636095284.py\u001b[0m in \u001b[0;36m<cell line: 0>\u001b[1;34m()\u001b[0m\n\u001b[0;32m     10\u001b[0m     \u001b[0moutputRaster\u001b[0m \u001b[1;33m=\u001b[0m \u001b[0mfolder_ras\u001b[0m \u001b[1;33m+\u001b[0m \u001b[0moutput_getname\u001b[0m \u001b[1;33m+\u001b[0m \u001b[1;34m\"_rs\"\u001b[0m \u001b[1;33m+\u001b[0m \u001b[1;34m\".tif\"\u001b[0m\u001b[1;33m\u001b[0m\u001b[1;33m\u001b[0m\u001b[0m\n\u001b[0;32m     11\u001b[0m \u001b[1;33m\u001b[0m\u001b[0m\n\u001b[1;32m---> 12\u001b[1;33m     \u001b[0mtemp\u001b[0m \u001b[1;33m=\u001b[0m \u001b[0marcpy\u001b[0m\u001b[1;33m.\u001b[0m\u001b[0mmanagement\u001b[0m\u001b[1;33m.\u001b[0m\u001b[0mResample\u001b[0m\u001b[1;33m(\u001b[0m\u001b[0mraster\u001b[0m\u001b[1;33m,\u001b[0m \u001b[0moutputRaster\u001b[0m\u001b[1;33m,\u001b[0m \u001b[1;36m30\u001b[0m\u001b[1;33m,\u001b[0m \u001b[1;34m\"CUBIC\"\u001b[0m\u001b[1;33m)\u001b[0m\u001b[1;33m\u001b[0m\u001b[1;33m\u001b[0m\u001b[0m\n\u001b[0m",
      "\u001b[1;32mC:\\Program Files\\ArcGIS\\Pro\\Resources\\ArcPy\\arcpy\\management.py\u001b[0m in \u001b[0;36mResample\u001b[1;34m(in_raster, out_raster, cell_size, resampling_type)\u001b[0m\n\u001b[0;32m  19937\u001b[0m         \u001b[1;32mreturn\u001b[0m \u001b[0mretval\u001b[0m\u001b[1;33m\u001b[0m\u001b[1;33m\u001b[0m\u001b[0m\n\u001b[0;32m  19938\u001b[0m     \u001b[1;32mexcept\u001b[0m \u001b[0mException\u001b[0m \u001b[1;32mas\u001b[0m \u001b[0me\u001b[0m\u001b[1;33m:\u001b[0m\u001b[1;33m\u001b[0m\u001b[1;33m\u001b[0m\u001b[0m\n\u001b[1;32m> 19939\u001b[1;33m         \u001b[1;32mraise\u001b[0m \u001b[0me\u001b[0m\u001b[1;33m\u001b[0m\u001b[1;33m\u001b[0m\u001b[0m\n\u001b[0m\u001b[0;32m  19940\u001b[0m \u001b[1;33m\u001b[0m\u001b[0m\n\u001b[0;32m  19941\u001b[0m \u001b[1;33m@\u001b[0m\u001b[0mgptooldoc\u001b[0m\u001b[1;33m(\u001b[0m\u001b[1;34m'SplitRaster_management'\u001b[0m\u001b[1;33m,\u001b[0m \u001b[1;32mNone\u001b[0m\u001b[1;33m)\u001b[0m\u001b[1;33m\u001b[0m\u001b[1;33m\u001b[0m\u001b[0m\n",
      "\u001b[1;32mC:\\Program Files\\ArcGIS\\Pro\\Resources\\ArcPy\\arcpy\\management.py\u001b[0m in \u001b[0;36mResample\u001b[1;34m(in_raster, out_raster, cell_size, resampling_type)\u001b[0m\n\u001b[0;32m  19934\u001b[0m     \u001b[1;32mfrom\u001b[0m \u001b[0marcpy\u001b[0m\u001b[1;33m.\u001b[0m\u001b[0marcobjects\u001b[0m\u001b[1;33m.\u001b[0m\u001b[0marcobjectconversion\u001b[0m \u001b[1;32mimport\u001b[0m \u001b[0mconvertArcObjectToPythonObject\u001b[0m\u001b[1;33m\u001b[0m\u001b[1;33m\u001b[0m\u001b[0m\n\u001b[0;32m  19935\u001b[0m     \u001b[1;32mtry\u001b[0m\u001b[1;33m:\u001b[0m\u001b[1;33m\u001b[0m\u001b[1;33m\u001b[0m\u001b[0m\n\u001b[1;32m> 19936\u001b[1;33m         \u001b[0mretval\u001b[0m \u001b[1;33m=\u001b[0m \u001b[0mconvertArcObjectToPythonObject\u001b[0m\u001b[1;33m(\u001b[0m\u001b[0mgp\u001b[0m\u001b[1;33m.\u001b[0m\u001b[0mResample_management\u001b[0m\u001b[1;33m(\u001b[0m\u001b[1;33m*\u001b[0m\u001b[0mgp_fixargs\u001b[0m\u001b[1;33m(\u001b[0m\u001b[1;33m(\u001b[0m\u001b[0min_raster\u001b[0m\u001b[1;33m,\u001b[0m \u001b[0mout_raster\u001b[0m\u001b[1;33m,\u001b[0m \u001b[0mcell_size\u001b[0m\u001b[1;33m,\u001b[0m \u001b[0mresampling_type\u001b[0m\u001b[1;33m)\u001b[0m\u001b[1;33m,\u001b[0m \u001b[1;32mTrue\u001b[0m\u001b[1;33m)\u001b[0m\u001b[1;33m)\u001b[0m\u001b[1;33m)\u001b[0m\u001b[1;33m\u001b[0m\u001b[1;33m\u001b[0m\u001b[0m\n\u001b[0m\u001b[0;32m  19937\u001b[0m         \u001b[1;32mreturn\u001b[0m \u001b[0mretval\u001b[0m\u001b[1;33m\u001b[0m\u001b[1;33m\u001b[0m\u001b[0m\n\u001b[0;32m  19938\u001b[0m     \u001b[1;32mexcept\u001b[0m \u001b[0mException\u001b[0m \u001b[1;32mas\u001b[0m \u001b[0me\u001b[0m\u001b[1;33m:\u001b[0m\u001b[1;33m\u001b[0m\u001b[1;33m\u001b[0m\u001b[0m\n",
      "\u001b[1;32mC:\\Program Files\\ArcGIS\\Pro\\Resources\\ArcPy\\arcpy\\geoprocessing\\_base.py\u001b[0m in \u001b[0;36m<lambda>\u001b[1;34m(*args)\u001b[0m\n\u001b[0;32m    510\u001b[0m         \u001b[0mval\u001b[0m \u001b[1;33m=\u001b[0m \u001b[0mgetattr\u001b[0m\u001b[1;33m(\u001b[0m\u001b[0mself\u001b[0m\u001b[1;33m.\u001b[0m\u001b[0m_gp\u001b[0m\u001b[1;33m,\u001b[0m \u001b[0mattr\u001b[0m\u001b[1;33m)\u001b[0m\u001b[1;33m\u001b[0m\u001b[1;33m\u001b[0m\u001b[0m\n\u001b[0;32m    511\u001b[0m         \u001b[1;32mif\u001b[0m \u001b[0mcallable\u001b[0m\u001b[1;33m(\u001b[0m\u001b[0mval\u001b[0m\u001b[1;33m)\u001b[0m\u001b[1;33m:\u001b[0m\u001b[1;33m\u001b[0m\u001b[1;33m\u001b[0m\u001b[0m\n\u001b[1;32m--> 512\u001b[1;33m             \u001b[1;32mreturn\u001b[0m \u001b[1;32mlambda\u001b[0m \u001b[1;33m*\u001b[0m\u001b[0margs\u001b[0m\u001b[1;33m:\u001b[0m \u001b[0mval\u001b[0m\u001b[1;33m(\u001b[0m\u001b[1;33m*\u001b[0m\u001b[0mgp_fixargs\u001b[0m\u001b[1;33m(\u001b[0m\u001b[0margs\u001b[0m\u001b[1;33m,\u001b[0m \u001b[1;32mTrue\u001b[0m\u001b[1;33m)\u001b[0m\u001b[1;33m)\u001b[0m\u001b[1;33m\u001b[0m\u001b[1;33m\u001b[0m\u001b[0m\n\u001b[0m\u001b[0;32m    513\u001b[0m         \u001b[1;32melse\u001b[0m\u001b[1;33m:\u001b[0m\u001b[1;33m\u001b[0m\u001b[1;33m\u001b[0m\u001b[0m\n\u001b[0;32m    514\u001b[0m             \u001b[1;32mreturn\u001b[0m \u001b[0mconvertArcObjectToPythonObject\u001b[0m\u001b[1;33m(\u001b[0m\u001b[0mval\u001b[0m\u001b[1;33m)\u001b[0m\u001b[1;33m\u001b[0m\u001b[1;33m\u001b[0m\u001b[0m\n",
      "\u001b[1;31mExecuteError\u001b[0m: Failed to execute. Parameters are not valid.\nERROR 000732: Input Raster: Dataset templyr does not exist or is not supported\nFailed to execute (Resample).\n"
     ]
    }
   ],
   "source": [
    "import arcpy\n",
    "#Set New Workspace\n",
    "arcpy.env.workspace = r\"I:/Wildfire_Climate_Export_v1/Wildfire_Climate_3Y/flattened/\"\n",
    "folder_ras = r\"I:/Wildfire_Climate_Export_v1/Wildfire_Climate_3Y/flattened/resample/\"\n",
    "\n",
    "rasters = arcpy.ListRasters()\n",
    "\n",
    "for raster in rasters:\n",
    "    output_getname = str(raster).replace('.tif', '')\n",
    "    outputRaster = folder_ras + output_getname + \"_rs\" + \".tif\"\n",
    "        \n",
    "    temp = arcpy.management.Resample(raster, outputRaster, 30, \"CUBIC\")   "
   ]
  },
  {
   "cell_type": "code",
   "execution_count": null,
   "id": "efe6aa08",
   "metadata": {},
   "outputs": [],
   "source": []
  }
 ],
 "metadata": {
  "kernelspec": {
   "display_name": "Python 3 (ipykernel)",
   "language": "python",
   "name": "python3"
  },
  "language_info": {
   "codemirror_mode": {
    "name": "ipython",
    "version": 3
   },
   "file_extension": ".py",
   "mimetype": "text/x-python",
   "name": "python",
   "nbconvert_exporter": "python",
   "pygments_lexer": "ipython3",
   "version": "3.11.8"
  }
 },
 "nbformat": 4,
 "nbformat_minor": 5
}
